{
  "nbformat": 4,
  "nbformat_minor": 0,
  "metadata": {
    "colab": {
      "name": "grip_TASK-2.ipynb",
      "provenance": [],
      "collapsed_sections": [],
      "authorship_tag": "ABX9TyMYXU73M9eCeDY/fqld2s5q",
      "include_colab_link": true
    },
    "kernelspec": {
      "name": "python3",
      "display_name": "Python 3"
    },
    "language_info": {
      "name": "python"
    }
  },
  "cells": [
    {
      "cell_type": "markdown",
      "metadata": {
        "id": "view-in-github",
        "colab_type": "text"
      },
      "source": [
        "<a href=\"https://colab.research.google.com/github/monalinayak/grip_TASK-1/blob/main/grip_TASK_2.ipynb\" target=\"_parent\"><img src=\"https://colab.research.google.com/assets/colab-badge.svg\" alt=\"Open In Colab\"/></a>"
      ]
    },
    {
      "cell_type": "markdown",
      "source": [
        "**The Sparks Foundation**"
      ],
      "metadata": {
        "id": "SUw4qPhKlIVo"
      }
    },
    {
      "cell_type": "markdown",
      "source": [
        "**Data Science and Bussiness Analytics**"
      ],
      "metadata": {
        "id": "21It3c5IlJk2"
      }
    },
    {
      "cell_type": "markdown",
      "source": [
        "**Task-2 Prediction using Unsupervised ML**"
      ],
      "metadata": {
        "id": "psCv048hlKJT"
      }
    },
    {
      "cell_type": "markdown",
      "source": [
        "**Name- Monali Nayak**"
      ],
      "metadata": {
        "id": "58DBV5l1lKUg"
      }
    },
    {
      "cell_type": "markdown",
      "source": [
        "**Importing the Dependencies**"
      ],
      "metadata": {
        "id": "4g9fV9SoJFBH"
      }
    },
    {
      "cell_type": "code",
      "source": [
        "import pandas as pd\n",
        "import numpy as np\n",
        "import matplotlib.pyplot as plt\n",
        "from sklearn.cluster import KMeans\n",
        "import seaborn as sns"
      ],
      "metadata": {
        "id": "-CTzuKLplTzT"
      },
      "execution_count": 24,
      "outputs": []
    },
    {
      "cell_type": "code",
      "source": [
        "df=pd.read_csv('/content/sample_data/Iris.csv')"
      ],
      "metadata": {
        "id": "ssHeG7W6Jkfg"
      },
      "execution_count": 25,
      "outputs": []
    },
    {
      "cell_type": "markdown",
      "source": [
        "**Exploring Data**"
      ],
      "metadata": {
        "id": "U32TADmwYpHK"
      }
    },
    {
      "cell_type": "code",
      "source": [
        "df.head()"
      ],
      "metadata": {
        "id": "3mQEzRMLYyf2"
      },
      "execution_count": null,
      "outputs": []
    },
    {
      "cell_type": "code",
      "source": [
        "df.shape"
      ],
      "metadata": {
        "id": "9BZkMWbqY20b"
      },
      "execution_count": null,
      "outputs": []
    },
    {
      "cell_type": "code",
      "source": [
        "df.describe()"
      ],
      "metadata": {
        "id": "RrWmRJnJY6RJ"
      },
      "execution_count": null,
      "outputs": []
    },
    {
      "cell_type": "code",
      "source": [
        "df.info()"
      ],
      "metadata": {
        "id": "jv3JrEL_Y9tG"
      },
      "execution_count": null,
      "outputs": []
    },
    {
      "cell_type": "code",
      "source": [
        "df.isnull().sum()"
      ],
      "metadata": {
        "id": "0M739A-pZAzN"
      },
      "execution_count": null,
      "outputs": []
    },
    {
      "cell_type": "markdown",
      "source": [
        "**Hence, There are no null values.**"
      ],
      "metadata": {
        "id": "tVH8aYD0ZIaN"
      }
    },
    {
      "cell_type": "code",
      "source": [
        "sns.pairplot(df)"
      ],
      "metadata": {
        "id": "2Ecpo0x0ZObr"
      },
      "execution_count": null,
      "outputs": []
    },
    {
      "cell_type": "markdown",
      "source": [
        "**### Using Elbow Method to find the Optimal Number of Clusters**"
      ],
      "metadata": {
        "id": "tu5rM45paPuP"
      }
    },
    {
      "cell_type": "markdown",
      "source": [
        "**Data Preparation**"
      ],
      "metadata": {
        "id": "oivUZTqaaghy"
      }
    },
    {
      "cell_type": "code",
      "source": [
        "x=df.iloc[:,1:5].values"
      ],
      "metadata": {
        "id": "W8xSvVpsafiF"
      },
      "execution_count": 32,
      "outputs": []
    },
    {
      "cell_type": "code",
      "source": [
        "wcss=[]\n",
        "for i in range(1,11):\n",
        "  kmeans=KMeans(n_clusters=i,init='k-means++',random_state=0)\n",
        "  kmeans.fit(x)\n",
        "  wcss.append(kmeans.inertia_)"
      ],
      "metadata": {
        "id": "oK4Byt9xax36"
      },
      "execution_count": 33,
      "outputs": []
    },
    {
      "cell_type": "code",
      "source": [
        "#plotting the elbow plot\n",
        "plt.plot(range(1,11),wcss,marker=\".\")\n",
        "plt.title('The Elbow Plot')\n",
        "plt.xlabel('No. of Clusters')\n",
        "plt.ylabel('WCSS')\n",
        "plt.show()"
      ],
      "metadata": {
        "id": "JQ41dxCsdf25"
      },
      "execution_count": null,
      "outputs": []
    },
    {
      "cell_type": "markdown",
      "source": [
        "**We can conclude(from the elbow plot) that the optimal no. of clusters =3**"
      ],
      "metadata": {
        "id": "U1ZAx0lves5u"
      }
    },
    {
      "cell_type": "code",
      "source": [
        "kmeans=KMeans(n_clusters=3,init='k-means++',random_state=0)\n",
        "#return a label per data point based on the cluster\n",
        "Y=kmeans.fit_predict(x)\n",
        "Y"
      ],
      "metadata": {
        "id": "Y-XRpHPSfCjo"
      },
      "execution_count": null,
      "outputs": []
    },
    {
      "cell_type": "markdown",
      "source": [
        "**Visualizing the Clusters**"
      ],
      "metadata": {
        "id": "aChSk8zDfjqj"
      }
    },
    {
      "cell_type": "code",
      "source": [
        "plt.figure(figsize=(8,8))\n",
        "plt.scatter(x[Y==0,0],x[Y==0,1],s=50,c='blue',label='Iris-Setosa')\n",
        "plt.scatter(x[Y==1,0],x[Y==1,1],s=50,c='red',label='Iris-Versicolor')\n",
        "plt.scatter(x[Y==2,0],x[Y==2,1],s=50,c='yellow',label='Iris-Virginica')\n",
        "plt.scatter(kmeans.cluster_centers_[:,0],kmeans.cluster_centers_[:,1],s=100,c='black',label=\"Centroids\",marker='*')\n",
        "plt.title(\"Visualizing Clusters\")\n",
        "plt.legend()\n",
        "plt.show()"
      ],
      "metadata": {
        "id": "rYuaS16bfo0m"
      },
      "execution_count": null,
      "outputs": []
    },
    {
      "cell_type": "markdown",
      "source": [
        "**CONCLUSION**\n",
        "1. On applying the elbow method, the optimum no of clusters obtained is 3.\n",
        "2. A scatter graph has been ploted for the visualization of each clusters and the centroids of each cluster is represented by a star."
      ],
      "metadata": {
        "id": "8ZjjMC4smjOQ"
      }
    }
  ]
}